{
 "cells": [
  {
   "cell_type": "code",
   "execution_count": 14,
   "metadata": {
    "collapsed": false
   },
   "outputs": [
    {
     "name": "stdout",
     "output_type": "stream",
     "text": [
      "[['Photo Editor & Candy Camera & Grid & ScrapBook', 'ART_AND_DESIGN', '4.1', '159', '19M', '10,000+', 'Free', '0', 'Everyone', 'Art & Design', 'January 7, 2018', '1.0.0', '4.0.3 and up'], ['Coloring book moana', 'ART_AND_DESIGN', '3.9', '967', '14M', '500,000+', 'Free', '0', 'Everyone', 'Art & Design;Pretend Play', 'January 15, 2018', '2.0.0', '4.0.3 and up'], ['U Launcher Lite – FREE Live Cool Themes, Hide Apps', 'ART_AND_DESIGN', '4.7', '87510', '8.7M', '5,000,000+', 'Free', '0', 'Everyone', 'Art & Design', 'August 1, 2018', '1.2.4', '4.0.3 and up']]\n"
     ]
    }
   ],
   "source": [
    "# importing and reading ios and android files\n",
    "\n",
    "from csv import reader\n",
    "\n",
    "opened_file = open('googleplaystore.csv')\n",
    "read_file = reader(opened_file)\n",
    "android = list(read_file)\n",
    "android_header = android[0]\n",
    "android = android[1:]\n",
    "\n",
    "opened_file = open('AppleStore.csv')\n",
    "read_file = reader(opened_file)\n",
    "ios = list(read_file)\n",
    "ios_header = ios[0]\n",
    "ios = ios[1:]\n",
    "\n",
    "# header_len = len(ios_header)\n",
    "# rows_len = len(row)\n",
    "\n",
    "# Missing Data: a method to compare row length with header len \n",
    "# for row in ios[:200]:\n",
    "#     if len(row) != header_len:\n",
    "#         print (\"lenght error\")\n",
    "#         print (row)\n",
    "#         print (ios.index(row))\n",
    "#     print ('row number', ios.index(row), 'matches header')\n",
    "\n",
    "print(android[:3])\n",
    "      \n",
    "\n",
    "\n",
    "\n"
   ]
  },
  {
   "cell_type": "code",
   "execution_count": 15,
   "metadata": {
    "collapsed": false
   },
   "outputs": [],
   "source": [
    "# a slicing tool for any list\n",
    "\n",
    "def explore_data(dataset, start, end, rows_and_columns=False):\n",
    "    dataset_slice = dataset[start:end]    \n",
    "    for row in dataset_slice:\n",
    "        print(row)\n",
    "        print('\\n') # adds a new (empty) line after each row\n",
    "\n",
    "    if rows_and_columns:\n",
    "        print('Number of rows:', len(dataset))\n",
    "        print('Number of columns:', len(dataset[0]))\n",
    "        \n",
    "\n",
    "    "
   ]
  },
  {
   "cell_type": "code",
   "execution_count": 16,
   "metadata": {
    "collapsed": false
   },
   "outputs": [],
   "source": [
    "# checking and deleting the row that had an eror on forum\n",
    "\n",
    "# print (android[10472])\n",
    "# print(len(android_header), len(android[10472]))\n",
    "# len(android[10472])== len(android_header)\n",
    "#del android[10472] - do not repeat- it will delete another one"
   ]
  },
  {
   "cell_type": "code",
   "execution_count": 17,
   "metadata": {
    "collapsed": false
   },
   "outputs": [],
   "source": [
    "# find duplicate app names in android\n",
    "\n",
    "android_unique_apps = []\n",
    "android_duplicate_apps = []\n",
    "\n",
    "for app in android:\n",
    "    name = app[0]\n",
    "    if name in android_duplicate_apps:\n",
    "        android_duplicate_apps.append(name)\n",
    "    else:\n",
    "        android_unique_apps.append(name)\n",
    "#print ('number of duplicate apps', len(android_duplicate_apps))\n",
    "# print ('\\n')\n",
    "# print ('number of unique apps', len(android_unique_apps))\n",
    "# print (android_unique_apps[:20])\n",
    "\n",
    "\n"
   ]
  },
  {
   "cell_type": "code",
   "execution_count": 18,
   "metadata": {
    "collapsed": false
   },
   "outputs": [],
   "source": [
    "# find duplicate app names in ios\n",
    "\n",
    "ios_unique_apps = []\n",
    "ios_duplicate_apps = []\n",
    "\n",
    "for app in android:\n",
    "    name = app[0]\n",
    "    if name in ios_duplicate_apps:\n",
    "        ios_duplicate_apps.append(name)\n",
    "    else:\n",
    "        ios_unique_apps.append(name)\n",
    "# print ('number of duplicate apps', len(ios_duplicate_apps))\n",
    "# print ('\\n')\n",
    "# print ('number of unique apps', len(ios_unique_apps))\n",
    "# print ('\\n')\n",
    "# print (ios_unique_apps[:20])\n",
    "\n"
   ]
  },
  {
   "cell_type": "code",
   "execution_count": 19,
   "metadata": {
    "collapsed": false
   },
   "outputs": [],
   "source": [
    "# find and print duplicate entries in Google play store i.e. ratings\n",
    "#create frequency table for rating\n",
    "\n",
    "android_duplicate_rating = []\n",
    "android_unique_rating = []\n",
    "android_freq_table = {}\n",
    "\n",
    "for row in android:\n",
    "    name = row[0]\n",
    "    if name in android_unique_rating:\n",
    "        android_duplicate_rating.append(name)\n",
    "    else:\n",
    "        android_unique_rating.append(name)\n",
    "        \n",
    "for name in android_duplicate_rating:\n",
    "    if name in android_freq_table:\n",
    "        android_freq_table[name] += 1\n",
    "    else:\n",
    "        android_freq_table[name] = 1\n",
    "# print ('the number of dup ratings is', len(android_duplicate_rating))\n",
    "# print (android_freq_table)\n",
    "# print (android_unique_rating)\n",
    "\n",
    "        \n",
    "    "
   ]
  },
  {
   "cell_type": "code",
   "execution_count": 20,
   "metadata": {
    "collapsed": false
   },
   "outputs": [],
   "source": [
    "# store data after removing duplicates by choosing the higher rating\n",
    "\n",
    "reviews_max = {}\n",
    "\n",
    "for app in android[:1000]:\n",
    "    name = app[0]\n",
    "    n_reviews = float(app[3])\n",
    "    \n",
    "    if name in reviews_max and reviews_max[name] < n_reviews:\n",
    "        reviews_max[name] = n_reviews\n",
    "        \n",
    "    elif name not in reviews_max:\n",
    "        reviews_max[name] = n_reviews\n",
    "#print (reviews_max)\n",
    "        \n",
    "\n",
    "\n",
    "    "
   ]
  },
  {
   "cell_type": "code",
   "execution_count": 21,
   "metadata": {
    "collapsed": false
   },
   "outputs": [
    {
     "name": "stdout",
     "output_type": "stream",
     "text": [
      "789\n"
     ]
    }
   ],
   "source": [
    "# for android list\n",
    "# clean the data and put into a name list\n",
    "android_clean = [] \n",
    "android_already_added = [] \n",
    "\n",
    "for app in android[:1000]: \n",
    "    name = app[0]  \n",
    "    n_reviews = float(app[3]) \n",
    "    if n_reviews == reviews_max[name] and name not in android_already_added: \n",
    "        android_clean.append(app)\n",
    "        android_already_added.append(name) \n",
    "#print (android_clean)\n",
    "print (len(android_already_added))\n",
    "\n",
    "\n",
    "    \n",
    "    "
   ]
  },
  {
   "cell_type": "code",
   "execution_count": 22,
   "metadata": {
    "collapsed": false
   },
   "outputs": [],
   "source": [
    "# this cell has an error\n",
    "# for ios list\n",
    "# clean the data and put into a name list\n",
    "\n",
    "ios_clean = [] \n",
    "ios_already_added = [] \n",
    "\n",
    "# for app in ios[:10]: \n",
    "#     name = app[0]  \n",
    "#     n_reviews = float(app[5]) \n",
    "#     if n_reviews == reviews_max[name] and name not in ios_already_added: \n",
    "#         ios_clean.append(app)\n",
    "#         ios_already_added.append(name) \n",
    "# print (ios_clean)\n",
    "# print (len(ios_already_added))"
   ]
  },
  {
   "cell_type": "code",
   "execution_count": 23,
   "metadata": {
    "collapsed": false
   },
   "outputs": [],
   "source": [
    "# a tool to identify non_English_char in string \n",
    "# we can set the bar to the number of non_eng allowed\n",
    "\n",
    "def check_eng(a_string):\n",
    "    non_eng = 0\n",
    "    all_eng = []\n",
    "    \n",
    "    for char in a_string:\n",
    "        if ord(char) > 127:\n",
    "            non_eng +=1\n",
    "           \n",
    "    if non_eng > 3:\n",
    "                return False\n",
    "    else:\n",
    "                return True  # attention to position\n",
    "               \n",
    "    "
   ]
  },
  {
   "cell_type": "code",
   "execution_count": 24,
   "metadata": {
    "collapsed": false
   },
   "outputs": [],
   "source": [
    "# android uniquelist- cycle through to remove non_eng \n",
    "\n",
    "eng_list = []\n",
    "non_eng_list = []\n",
    "\n",
    "for app in android:\n",
    "    if check_eng(app[0]):\n",
    "        eng_list.append(app)\n",
    "    else:\n",
    "        non_eng_list.append(app)\n",
    "#print (len(eng_list))\n",
    "#print (eng_list[:50])\n",
    "#print(explore_data(eng_list,0, 5, True))\n",
    "\n",
    "    \n"
   ]
  },
  {
   "cell_type": "code",
   "execution_count": 33,
   "metadata": {
    "collapsed": false
   },
   "outputs": [
    {
     "name": "stdout",
     "output_type": "stream",
     "text": [
      "10040\n"
     ]
    }
   ],
   "source": [
    "# android uniquelist- cycle through to remove non_eng \n",
    "\n",
    "android_free_list = []\n",
    "android_non_free_list = []\n",
    "\n",
    "for app in android:\n",
    "    if app[7] == '0':\n",
    "        android_free_list.append(app)\n",
    "    else:\n",
    "        android_non_free_list.append(app)\n",
    "        \n",
    "print (len(android_free_list))\n",
    "# print ('\\n')\n",
    "# print (android_free_list[:50])\n",
    "# print ('\\n')\n",
    "# print(explore_data(android_free_list,0, 5, True))\n"
   ]
  },
  {
   "cell_type": "code",
   "execution_count": 39,
   "metadata": {
    "collapsed": false
   },
   "outputs": [
    {
     "name": "stdout",
     "output_type": "stream",
     "text": [
      "{'2.0 and up': 26, '7.0 - 7.1.1': 1, '4.0.3 and up': 1412, '4.4 and up': 939, '5.0 - 6.0': 1, '1.0 and up': 2, '2.3 and up': 580, '5.1 and up': 21, '1.6 and up': 77, '2.0.1 and up': 2, '4.1 and up': 2320, '4.0 and up': 1272, '5.0 - 7.1.1': 1, 'Varies with device': 1296, '4.2 and up': 373, '2.2 and up': 195, '8.0 and up': 5, '4.1 - 7.1.1': 1, '5.0 - 8.0': 2, '7.0 and up': 29, '4.3 and up': 229, '5.0 and up': 569, '3.0 and up': 207, '2.3.3 and up': 251, 'NaN': 1, '3.2 and up': 28, '3.1 and up': 9, '1.5 and up': 14, '2.2 - 7.1.1': 1, '4.0.3 - 7.1.1': 2, '7.1 and up': 3, '4.4W and up': 9, '6.0 and up': 55, '2.1 and up': 107}\n"
     ]
    }
   ],
   "source": [
    "# android - build freq table for Apps in highest demand\n",
    "\n",
    "#parameters to check for:\n",
    "# for android: [2] rating,[3] reviews, [5]installs\n",
    "#for ios: [5 rating_count_tot], rating_count_ver 6 ,user_rating 7 \n",
    "#each column value will be in a separate dict\n",
    "\n",
    "type_freq = {}\n",
    "price_freq = {}\n",
    "genres_freq = {}\n",
    "version_freq = {}\n",
    "\n",
    "for app in android_free_list:\n",
    "    app_type = app[6]\n",
    "    price = app[7]\n",
    "    genres = app[9]\n",
    "    version = app[-1]\n",
    "    \n",
    "    if app_type in type_freq:\n",
    "        type_freq[app_type] +=1\n",
    "    else:\n",
    "        type_freq[app_type] = 1\n",
    "        \n",
    "    if price in price_freq:\n",
    "        price_freq[price] +=1\n",
    "    else:\n",
    "        price_freq[price] = 1\n",
    "        \n",
    "    if genres in genres_freq:\n",
    "        genres_freq[genres] +=1\n",
    "    else:\n",
    "        genres_freq[genres] = 1\n",
    "        \n",
    "    if version in version_freq:\n",
    "        version_freq[version] +=1\n",
    "    else:\n",
    "        version_freq[version] = 1\n",
    "        \n",
    "print(version_freq)\n",
    "\n",
    "# print(android_header)\n",
    "# print(android_free_list[:3])"
   ]
  }
 ],
 "metadata": {
  "kernelspec": {
   "display_name": "Python 3",
   "language": "python",
   "name": "python3"
  },
  "language_info": {
   "codemirror_mode": {
    "name": "ipython",
    "version": 3
   },
   "file_extension": ".py",
   "mimetype": "text/x-python",
   "name": "python",
   "nbconvert_exporter": "python",
   "pygments_lexer": "ipython3",
   "version": "3.4.3"
  }
 },
 "nbformat": 4,
 "nbformat_minor": 2
}
